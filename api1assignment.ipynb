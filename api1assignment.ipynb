{
 "cells": [
  {
   "cell_type": "code",
   "execution_count": 1,
   "id": "5ffca5b3-5143-475a-bd99-f1d343d13a80",
   "metadata": {},
   "outputs": [
    {
     "data": {
      "text/plain": [
       "'\\n1)API:-API stands for application programming interface, which is a set of definitions and protocols for building and integrating application software.\\n      APIs let your product or service communicate with other products and services without having to know how they’re implemented. \\n ex:-While using google pay we communicate with our bank server which may or may not be written with same programming language in which google pay is written\\n \\n'"
      ]
     },
     "execution_count": 1,
     "metadata": {},
     "output_type": "execute_result"
    }
   ],
   "source": [
    "\"\"\"\n",
    "1)API:-API stands for application programming interface, which is a set of definitions and protocols for building and integrating application software.\n",
    "      APIs let your product or service communicate with other products and services without having to know how they’re implemented. \n",
    " ex:-While using google pay we communicate with our bank server which may or may not be written with same programming language in which google pay is written\n",
    " \n",
    "\"\"\""
   ]
  },
  {
   "cell_type": "code",
   "execution_count": 2,
   "id": "ac409438-9eaa-4232-a16f-f40790384b96",
   "metadata": {},
   "outputs": [
    {
     "data": {
      "text/plain": [
       "'\\n2)advantages of api:-\\n-->i)it allows your users to do more with your product or service (i.e. it increases the value of your product.\\n-->ii)integration:-it helps us in communicating with other application irrespective of language barrier\\n-->iii)new functionality\\n'"
      ]
     },
     "execution_count": 2,
     "metadata": {},
     "output_type": "execute_result"
    }
   ],
   "source": [
    "\"\"\"\n",
    "2)advantages of api:-\n",
    "-->i)it allows your users to do more with your product or service (i.e. it increases the value of your product.\n",
    "-->ii)integration:-it helps us in communicating with other application irrespective of language barrier\n",
    "-->iii)new functionality\n",
    "\"\"\""
   ]
  },
  {
   "cell_type": "code",
   "execution_count": 3,
   "id": "69480763-1326-4236-bc3f-1e463c84f8da",
   "metadata": {},
   "outputs": [
    {
     "data": {
      "text/plain": [
       "'\\n3)web api:-A Web API is an application programming interface for the Web. \\nkey difference between web api and api\\n-->Webiapi is a collection of open source protocols and standards used for exchanging data between systems or applications, whereas API is a software interface that allows two applications to interact with each other without any user involvement.\\n-->Web-api is used for REST, SOAP, and XML-RPC for communication, while API is used for any style of communication.\\n-->Web-api supports only HTTP protocol, whereas API supports HTTP/HTTPS protocol.\\n-->Web-api supports XML, while API supports XML and JSON.\\n-->All Web-api are APIs, but all APIs are not web services.\\n\\n'"
      ]
     },
     "execution_count": 3,
     "metadata": {},
     "output_type": "execute_result"
    }
   ],
   "source": [
    "\"\"\"\n",
    "3)web api:-A Web API is an application programming interface for the Web. \n",
    "key difference between web api and api\n",
    "-->Webiapi is a collection of open source protocols and standards used for exchanging data between systems or applications, whereas API is a software interface that allows two applications to interact with each other without any user involvement.\n",
    "-->Web-api is used for REST, SOAP, and XML-RPC for communication, while API is used for any style of communication.\n",
    "-->Web-api supports only HTTP protocol, whereas API supports HTTP/HTTPS protocol.\n",
    "-->Web-api supports XML, while API supports XML and JSON.\n",
    "-->All Web-api are APIs, but all APIs are not web services.\n",
    "\n",
    "\"\"\""
   ]
  },
  {
   "cell_type": "code",
   "execution_count": 4,
   "id": "4d3bcb2b-542a-4827-a6b4-685fa2b471a8",
   "metadata": {},
   "outputs": [
    {
     "data": {
      "text/plain": [
       "'\\n4)-->REST(Representational state transfer):-REST is a set of architectural principles attuned to the needs of lightweight web services and mobile applications.\\n>When a request for data is sent to a REST API, it’s usually done through hypertext transfer protocol (commonly referred to as HTTP). Once a request is received, APIs designed for REST (called RESTful APIs or RESTful web services) can return messages in a variety of formats: HTML, XML, plain text, and JSON. JSON (JavaScript object notation) is favored as a message format because it can be read by any programming language (despite the name), is human- and machine-readable, and is lightweight. In this way, RESTful APIs are more flexible and can be easier to set up.\\n-->SOAP(simple object acess protocol):-SOAP is a standard protocol that was first designed so that applications built with different languages and on different platforms could communicate.\\n>since,it is a protocol, it imposes built-in rules that increase its complexity and overhead, which can lead to longer page load times. However, these standards also offer built-in compliances that can make it preferable for enterprise scenarios.\\n-->shortcomings of soap:-\\ni)Highly complex\\nii)No variety of data formats\\niii)API calls are not cached\\niv)Uses more bandwidth\\n\\n'"
      ]
     },
     "execution_count": 4,
     "metadata": {},
     "output_type": "execute_result"
    }
   ],
   "source": [
    "\"\"\"\n",
    "4)-->REST(Representational state transfer):-REST is a set of architectural principles attuned to the needs of lightweight web services and mobile applications.\n",
    ">When a request for data is sent to a REST API, it’s usually done through hypertext transfer protocol (commonly referred to as HTTP). Once a request is received, APIs designed for REST (called RESTful APIs or RESTful web services) can return messages in a variety of formats: HTML, XML, plain text, and JSON. JSON (JavaScript object notation) is favored as a message format because it can be read by any programming language (despite the name), is human- and machine-readable, and is lightweight. In this way, RESTful APIs are more flexible and can be easier to set up.\n",
    "-->SOAP(simple object acess protocol):-SOAP is a standard protocol that was first designed so that applications built with different languages and on different platforms could communicate.\n",
    ">since,it is a protocol, it imposes built-in rules that increase its complexity and overhead, which can lead to longer page load times. However, these standards also offer built-in compliances that can make it preferable for enterprise scenarios.\n",
    "-->shortcomings of soap:-\n",
    "i)Highly complex\n",
    "ii)No variety of data formats\n",
    "iii)API calls are not cached\n",
    "iv)Uses more bandwidth\n",
    "\n",
    "\"\"\""
   ]
  },
  {
   "cell_type": "code",
   "execution_count": null,
   "id": "bc6efa8d-a57c-4ad9-a497-dd9c8813c811",
   "metadata": {},
   "outputs": [],
   "source": [
    "\"\"\"\n",
    "5)\n",
    "\"\"\""
   ]
  }
 ],
 "metadata": {
  "kernelspec": {
   "display_name": "Python 3 (ipykernel)",
   "language": "python",
   "name": "python3"
  },
  "language_info": {
   "codemirror_mode": {
    "name": "ipython",
    "version": 3
   },
   "file_extension": ".py",
   "mimetype": "text/x-python",
   "name": "python",
   "nbconvert_exporter": "python",
   "pygments_lexer": "ipython3",
   "version": "3.10.8"
  }
 },
 "nbformat": 4,
 "nbformat_minor": 5
}
